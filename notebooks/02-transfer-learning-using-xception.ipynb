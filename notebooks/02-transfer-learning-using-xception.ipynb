{
 "cells": [
  {
   "cell_type": "code",
   "execution_count": 1,
   "id": "a2420f53",
   "metadata": {
    "execution": {
     "iopub.execute_input": "2021-11-28T02:15:56.277869Z",
     "iopub.status.busy": "2021-11-28T02:15:56.276234Z",
     "iopub.status.idle": "2021-11-28T02:16:05.409199Z",
     "shell.execute_reply": "2021-11-28T02:16:05.408616Z",
     "shell.execute_reply.started": "2021-11-27T21:47:39.525212Z"
    },
    "papermill": {
     "duration": 9.16012,
     "end_time": "2021-11-28T02:16:05.409359",
     "exception": false,
     "start_time": "2021-11-28T02:15:56.249239",
     "status": "completed"
    },
    "tags": []
   },
   "outputs": [
    {
     "name": "stdout",
     "output_type": "stream",
     "text": [
      "\u001b[33mWARNING: Running pip as the 'root' user can result in broken permissions and conflicting behaviour with the system package manager. It is recommended to use a virtual environment instead: https://pip.pypa.io/warnings/venv\u001b[0m\r\n"
     ]
    }
   ],
   "source": [
    "!pip install livelossplot --quiet"
   ]
  },
  {
   "cell_type": "code",
   "execution_count": 2,
   "id": "95d0b375",
   "metadata": {
    "execution": {
     "iopub.execute_input": "2021-11-28T02:16:05.456870Z",
     "iopub.status.busy": "2021-11-28T02:16:05.456214Z",
     "iopub.status.idle": "2021-11-28T02:16:11.206410Z",
     "shell.execute_reply": "2021-11-28T02:16:11.206998Z",
     "shell.execute_reply.started": "2021-11-27T21:47:41.251319Z"
    },
    "papermill": {
     "duration": 5.775904,
     "end_time": "2021-11-28T02:16:11.207159",
     "exception": false,
     "start_time": "2021-11-28T02:16:05.431255",
     "status": "completed"
    },
    "tags": []
   },
   "outputs": [],
   "source": [
    "# Importing the libraries\n",
    "import os\n",
    "import shutil\n",
    "import glob\n",
    "from tqdm.notebook import tqdm\n",
    "import numpy as np\n",
    "import pandas as pd\n",
    "import matplotlib.pyplot as plt\n",
    "import seaborn as sns\n",
    "import tensorflow as tf\n",
    "from tensorflow import keras\n",
    "import cv2\n",
    "from PIL import Image\n",
    "from tensorflow.keras.preprocessing.image import ImageDataGenerator\n",
    "import random\n",
    "from random import seed\n",
    "from livelossplot import PlotLossesKeras\n",
    "import math"
   ]
  },
  {
   "cell_type": "code",
   "execution_count": 3,
   "id": "c1ff8c76",
   "metadata": {
    "execution": {
     "iopub.execute_input": "2021-11-28T02:16:11.255565Z",
     "iopub.status.busy": "2021-11-28T02:16:11.254514Z",
     "iopub.status.idle": "2021-11-28T02:16:11.363558Z",
     "shell.execute_reply": "2021-11-28T02:16:11.364171Z",
     "shell.execute_reply.started": "2021-11-27T21:47:41.258597Z"
    },
    "papermill": {
     "duration": 0.134306,
     "end_time": "2021-11-28T02:16:11.364368",
     "exception": false,
     "start_time": "2021-11-28T02:16:11.230062",
     "status": "completed"
    },
    "tags": []
   },
   "outputs": [
    {
     "data": {
      "text/html": [
       "<div>\n",
       "<style scoped>\n",
       "    .dataframe tbody tr th:only-of-type {\n",
       "        vertical-align: middle;\n",
       "    }\n",
       "\n",
       "    .dataframe tbody tr th {\n",
       "        vertical-align: top;\n",
       "    }\n",
       "\n",
       "    .dataframe thead th {\n",
       "        text-align: right;\n",
       "    }\n",
       "</style>\n",
       "<table border=\"1\" class=\"dataframe\">\n",
       "  <thead>\n",
       "    <tr style=\"text-align: right;\">\n",
       "      <th></th>\n",
       "      <th>image_name</th>\n",
       "      <th>patient_id</th>\n",
       "      <th>sex</th>\n",
       "      <th>age_approx</th>\n",
       "      <th>anatom_site_general_challenge</th>\n",
       "      <th>diagnosis</th>\n",
       "      <th>benign_malignant</th>\n",
       "      <th>target</th>\n",
       "      <th>tfrecord</th>\n",
       "      <th>width</th>\n",
       "      <th>height</th>\n",
       "    </tr>\n",
       "  </thead>\n",
       "  <tbody>\n",
       "    <tr>\n",
       "      <th>0</th>\n",
       "      <td>ISIC_2637011</td>\n",
       "      <td>IP_7279968</td>\n",
       "      <td>male</td>\n",
       "      <td>45.0</td>\n",
       "      <td>head/neck</td>\n",
       "      <td>unknown</td>\n",
       "      <td>benign</td>\n",
       "      <td>0</td>\n",
       "      <td>0</td>\n",
       "      <td>6000</td>\n",
       "      <td>4000</td>\n",
       "    </tr>\n",
       "    <tr>\n",
       "      <th>1</th>\n",
       "      <td>ISIC_0015719</td>\n",
       "      <td>IP_3075186</td>\n",
       "      <td>female</td>\n",
       "      <td>45.0</td>\n",
       "      <td>upper extremity</td>\n",
       "      <td>unknown</td>\n",
       "      <td>benign</td>\n",
       "      <td>0</td>\n",
       "      <td>0</td>\n",
       "      <td>6000</td>\n",
       "      <td>4000</td>\n",
       "    </tr>\n",
       "    <tr>\n",
       "      <th>2</th>\n",
       "      <td>ISIC_0052212</td>\n",
       "      <td>IP_2842074</td>\n",
       "      <td>female</td>\n",
       "      <td>50.0</td>\n",
       "      <td>lower extremity</td>\n",
       "      <td>nevus</td>\n",
       "      <td>benign</td>\n",
       "      <td>0</td>\n",
       "      <td>6</td>\n",
       "      <td>1872</td>\n",
       "      <td>1053</td>\n",
       "    </tr>\n",
       "    <tr>\n",
       "      <th>3</th>\n",
       "      <td>ISIC_0068279</td>\n",
       "      <td>IP_6890425</td>\n",
       "      <td>female</td>\n",
       "      <td>45.0</td>\n",
       "      <td>head/neck</td>\n",
       "      <td>unknown</td>\n",
       "      <td>benign</td>\n",
       "      <td>0</td>\n",
       "      <td>0</td>\n",
       "      <td>1872</td>\n",
       "      <td>1053</td>\n",
       "    </tr>\n",
       "    <tr>\n",
       "      <th>4</th>\n",
       "      <td>ISIC_0074268</td>\n",
       "      <td>IP_8723313</td>\n",
       "      <td>female</td>\n",
       "      <td>55.0</td>\n",
       "      <td>upper extremity</td>\n",
       "      <td>unknown</td>\n",
       "      <td>benign</td>\n",
       "      <td>0</td>\n",
       "      <td>11</td>\n",
       "      <td>6000</td>\n",
       "      <td>4000</td>\n",
       "    </tr>\n",
       "  </tbody>\n",
       "</table>\n",
       "</div>"
      ],
      "text/plain": [
       "     image_name  patient_id     sex  age_approx anatom_site_general_challenge  \\\n",
       "0  ISIC_2637011  IP_7279968    male        45.0                     head/neck   \n",
       "1  ISIC_0015719  IP_3075186  female        45.0               upper extremity   \n",
       "2  ISIC_0052212  IP_2842074  female        50.0               lower extremity   \n",
       "3  ISIC_0068279  IP_6890425  female        45.0                     head/neck   \n",
       "4  ISIC_0074268  IP_8723313  female        55.0               upper extremity   \n",
       "\n",
       "  diagnosis benign_malignant  target  tfrecord  width  height  \n",
       "0   unknown           benign       0         0   6000    4000  \n",
       "1   unknown           benign       0         0   6000    4000  \n",
       "2     nevus           benign       0         6   1872    1053  \n",
       "3   unknown           benign       0         0   1872    1053  \n",
       "4   unknown           benign       0        11   6000    4000  "
      ]
     },
     "execution_count": 3,
     "metadata": {},
     "output_type": "execute_result"
    }
   ],
   "source": [
    "# Importing the Training Dataset\n",
    "df_train = pd.read_csv(\"../input/jpeg-melanoma-384x384/train.csv\")\n",
    "df_train.head()"
   ]
  },
  {
   "cell_type": "code",
   "execution_count": 4,
   "id": "f3918a1e",
   "metadata": {
    "execution": {
     "iopub.execute_input": "2021-11-28T02:16:11.439256Z",
     "iopub.status.busy": "2021-11-28T02:16:11.418570Z",
     "iopub.status.idle": "2021-11-28T02:16:11.460115Z",
     "shell.execute_reply": "2021-11-28T02:16:11.459492Z",
     "shell.execute_reply.started": "2021-11-27T21:47:41.337825Z"
    },
    "papermill": {
     "duration": 0.072345,
     "end_time": "2021-11-28T02:16:11.460272",
     "exception": false,
     "start_time": "2021-11-28T02:16:11.387927",
     "status": "completed"
    },
    "tags": []
   },
   "outputs": [
    {
     "name": "stdout",
     "output_type": "stream",
     "text": [
      "<class 'pandas.core.frame.DataFrame'>\n",
      "RangeIndex: 33126 entries, 0 to 33125\n",
      "Data columns (total 11 columns):\n",
      " #   Column                         Non-Null Count  Dtype  \n",
      "---  ------                         --------------  -----  \n",
      " 0   image_name                     33126 non-null  object \n",
      " 1   patient_id                     33126 non-null  object \n",
      " 2   sex                            33061 non-null  object \n",
      " 3   age_approx                     33058 non-null  float64\n",
      " 4   anatom_site_general_challenge  32599 non-null  object \n",
      " 5   diagnosis                      33126 non-null  object \n",
      " 6   benign_malignant               33126 non-null  object \n",
      " 7   target                         33126 non-null  int64  \n",
      " 8   tfrecord                       33126 non-null  int64  \n",
      " 9   width                          33126 non-null  int64  \n",
      " 10  height                         33126 non-null  int64  \n",
      "dtypes: float64(1), int64(4), object(6)\n",
      "memory usage: 2.8+ MB\n"
     ]
    }
   ],
   "source": [
    "df_train.info()"
   ]
  },
  {
   "cell_type": "code",
   "execution_count": 5,
   "id": "b52d969c",
   "metadata": {
    "execution": {
     "iopub.execute_input": "2021-11-28T02:16:11.512638Z",
     "iopub.status.busy": "2021-11-28T02:16:11.512019Z",
     "iopub.status.idle": "2021-11-28T02:16:11.550468Z",
     "shell.execute_reply": "2021-11-28T02:16:11.549964Z",
     "shell.execute_reply.started": "2021-11-27T21:47:41.373451Z"
    },
    "papermill": {
     "duration": 0.065937,
     "end_time": "2021-11-28T02:16:11.550657",
     "exception": false,
     "start_time": "2021-11-28T02:16:11.484720",
     "status": "completed"
    },
    "tags": []
   },
   "outputs": [
    {
     "data": {
      "text/html": [
       "<div>\n",
       "<style scoped>\n",
       "    .dataframe tbody tr th:only-of-type {\n",
       "        vertical-align: middle;\n",
       "    }\n",
       "\n",
       "    .dataframe tbody tr th {\n",
       "        vertical-align: top;\n",
       "    }\n",
       "\n",
       "    .dataframe thead th {\n",
       "        text-align: right;\n",
       "    }\n",
       "</style>\n",
       "<table border=\"1\" class=\"dataframe\">\n",
       "  <thead>\n",
       "    <tr style=\"text-align: right;\">\n",
       "      <th></th>\n",
       "      <th>image_name</th>\n",
       "      <th>patient_id</th>\n",
       "      <th>sex</th>\n",
       "      <th>age_approx</th>\n",
       "      <th>anatom_site_general_challenge</th>\n",
       "      <th>width</th>\n",
       "      <th>height</th>\n",
       "    </tr>\n",
       "  </thead>\n",
       "  <tbody>\n",
       "    <tr>\n",
       "      <th>0</th>\n",
       "      <td>ISIC_0052060</td>\n",
       "      <td>IP_3579794</td>\n",
       "      <td>male</td>\n",
       "      <td>70.0</td>\n",
       "      <td>NaN</td>\n",
       "      <td>6000</td>\n",
       "      <td>4000</td>\n",
       "    </tr>\n",
       "    <tr>\n",
       "      <th>1</th>\n",
       "      <td>ISIC_0052349</td>\n",
       "      <td>IP_7782715</td>\n",
       "      <td>male</td>\n",
       "      <td>40.0</td>\n",
       "      <td>lower extremity</td>\n",
       "      <td>6000</td>\n",
       "      <td>4000</td>\n",
       "    </tr>\n",
       "    <tr>\n",
       "      <th>2</th>\n",
       "      <td>ISIC_0058510</td>\n",
       "      <td>IP_7960270</td>\n",
       "      <td>female</td>\n",
       "      <td>55.0</td>\n",
       "      <td>torso</td>\n",
       "      <td>6000</td>\n",
       "      <td>4000</td>\n",
       "    </tr>\n",
       "    <tr>\n",
       "      <th>3</th>\n",
       "      <td>ISIC_0073313</td>\n",
       "      <td>IP_6375035</td>\n",
       "      <td>female</td>\n",
       "      <td>50.0</td>\n",
       "      <td>torso</td>\n",
       "      <td>6000</td>\n",
       "      <td>4000</td>\n",
       "    </tr>\n",
       "    <tr>\n",
       "      <th>4</th>\n",
       "      <td>ISIC_0073502</td>\n",
       "      <td>IP_0589375</td>\n",
       "      <td>female</td>\n",
       "      <td>45.0</td>\n",
       "      <td>lower extremity</td>\n",
       "      <td>1920</td>\n",
       "      <td>1080</td>\n",
       "    </tr>\n",
       "  </tbody>\n",
       "</table>\n",
       "</div>"
      ],
      "text/plain": [
       "     image_name  patient_id     sex  age_approx anatom_site_general_challenge  \\\n",
       "0  ISIC_0052060  IP_3579794    male        70.0                           NaN   \n",
       "1  ISIC_0052349  IP_7782715    male        40.0               lower extremity   \n",
       "2  ISIC_0058510  IP_7960270  female        55.0                         torso   \n",
       "3  ISIC_0073313  IP_6375035  female        50.0                         torso   \n",
       "4  ISIC_0073502  IP_0589375  female        45.0               lower extremity   \n",
       "\n",
       "   width  height  \n",
       "0   6000    4000  \n",
       "1   6000    4000  \n",
       "2   6000    4000  \n",
       "3   6000    4000  \n",
       "4   1920    1080  "
      ]
     },
     "execution_count": 5,
     "metadata": {},
     "output_type": "execute_result"
    }
   ],
   "source": [
    "# Importing the Test Dataset\n",
    "df_test = pd.read_csv(\"../input/jpeg-melanoma-384x384/test.csv\")\n",
    "df_test.head()"
   ]
  },
  {
   "cell_type": "code",
   "execution_count": 6,
   "id": "7427e1d2",
   "metadata": {
    "execution": {
     "iopub.execute_input": "2021-11-28T02:16:11.608524Z",
     "iopub.status.busy": "2021-11-28T02:16:11.607937Z",
     "iopub.status.idle": "2021-11-28T02:16:11.612509Z",
     "shell.execute_reply": "2021-11-28T02:16:11.611500Z",
     "shell.execute_reply.started": "2021-11-27T21:47:41.400610Z"
    },
    "papermill": {
     "duration": 0.037328,
     "end_time": "2021-11-28T02:16:11.612641",
     "exception": false,
     "start_time": "2021-11-28T02:16:11.575313",
     "status": "completed"
    },
    "tags": []
   },
   "outputs": [],
   "source": [
    "# Creating a config class to store all the configurations\n",
    "class config:\n",
    "    \n",
    "    # Image and Tabular data paths\n",
    "    DIRECTORY_PATH = \"../input/jpeg-melanoma-384x384/\"\n",
    "    TRAINING_SAMPLES_FOLDER = DIRECTORY_PATH + \"train/\"\n",
    "    TESTING_SAMPLES_FOLDER = DIRECTORY_PATH + \"test/\"\n",
    "    TRAIN_FULL_DATA = DIRECTORY_PATH + \"train.csv\"\n",
    "    TEST_FULL_DATA = DIRECTORY_PATH + \"test.csv\"\n",
    "    \n",
    "    # New directory path for image data\n",
    "    WORK_DIRECTORY = \"dataset/\"\n",
    "    TRAIN_IMAGES_FOLDER = WORK_DIRECTORY + \"training_set/\"\n",
    "    TEST_IMAGES_FOLDER = WORK_DIRECTORY + \"test_set/\"\n",
    "    VALIDATION_IMAGES_FOLDER = WORK_DIRECTORY + \"validation_set/\"\n",
    "    \n",
    "    # Input parameters for data preprocessing\n",
    "    TARGET_NAME = \"target\"\n",
    "    TRAIN_SIZE = 0.80\n",
    "    VALIDATION_SIZE = 0.10\n",
    "    TEST_SIZE = 0.10\n",
    "    SEED = 42\n",
    "    \n",
    "    # Tensorflow settings for model training\n",
    "    IMAGE_HEIGHT = 299\n",
    "    IMAGE_WIDTH = 299\n",
    "    NO_CHANNELS = 3\n",
    "    BATCH_SIZE = 64\n",
    "    EPOCHS = 20\n",
    "    DROPOUT = 0.5\n",
    "    LEARNING_RATE = 0.01\n",
    "    PATIENCE = 5"
   ]
  },
  {
   "cell_type": "code",
   "execution_count": 7,
   "id": "f3666a8a",
   "metadata": {
    "execution": {
     "iopub.execute_input": "2021-11-28T02:16:11.663974Z",
     "iopub.status.busy": "2021-11-28T02:16:11.663419Z",
     "iopub.status.idle": "2021-11-28T02:16:12.403148Z",
     "shell.execute_reply": "2021-11-28T02:16:12.403970Z",
     "shell.execute_reply.started": "2021-11-27T21:47:41.410101Z"
    },
    "papermill": {
     "duration": 0.767707,
     "end_time": "2021-11-28T02:16:12.404150",
     "exception": false,
     "start_time": "2021-11-28T02:16:11.636443",
     "status": "completed"
    },
    "tags": []
   },
   "outputs": [
    {
     "name": "stdout",
     "output_type": "stream",
     "text": [
      "['sample_submission.csv', 'train.csv', 'test.csv', 'test', 'train']\n",
      "33126 Training Samples\n",
      "10982 Testing Samples\n"
     ]
    }
   ],
   "source": [
    "# Checking the files along with the number of samples\n",
    "print(os.listdir(config.DIRECTORY_PATH))\n",
    "print(len(os.listdir(config.TRAINING_SAMPLES_FOLDER)), \"Training Samples\")\n",
    "print(len(os.listdir(config.TESTING_SAMPLES_FOLDER)), \"Testing Samples\")"
   ]
  },
  {
   "cell_type": "code",
   "execution_count": 8,
   "id": "67629c50",
   "metadata": {
    "execution": {
     "iopub.execute_input": "2021-11-28T02:16:12.456687Z",
     "iopub.status.busy": "2021-11-28T02:16:12.456086Z",
     "iopub.status.idle": "2021-11-28T02:16:12.460868Z",
     "shell.execute_reply": "2021-11-28T02:16:12.460268Z",
     "shell.execute_reply.started": "2021-11-27T21:47:41.442571Z"
    },
    "papermill": {
     "duration": 0.033435,
     "end_time": "2021-11-28T02:16:12.460988",
     "exception": false,
     "start_time": "2021-11-28T02:16:12.427553",
     "status": "completed"
    },
    "tags": []
   },
   "outputs": [],
   "source": [
    "# Creating folders for training and validation data\n",
    "dataset_home = \"./dataset/\"\n",
    "subdirs = [\"training_set/\", \"test_set/\", \"validation_set/\"]\n",
    "for subdir in subdirs:\n",
    "    labeldirs = [\"benign\", \"malignant\"]\n",
    "    for labeldir in labeldirs:\n",
    "        newdir = dataset_home + subdir + labeldir\n",
    "        os.makedirs(newdir, exist_ok=True)"
   ]
  },
  {
   "cell_type": "code",
   "execution_count": 9,
   "id": "1d163288",
   "metadata": {
    "execution": {
     "iopub.execute_input": "2021-11-28T02:16:12.514387Z",
     "iopub.status.busy": "2021-11-28T02:16:12.512777Z",
     "iopub.status.idle": "2021-11-28T02:16:12.516439Z",
     "shell.execute_reply": "2021-11-28T02:16:12.515974Z",
     "shell.execute_reply.started": "2021-11-27T21:47:41.451236Z"
    },
    "papermill": {
     "duration": 0.032144,
     "end_time": "2021-11-28T02:16:12.516585",
     "exception": false,
     "start_time": "2021-11-28T02:16:12.484441",
     "status": "completed"
    },
    "tags": []
   },
   "outputs": [
    {
     "name": "stdout",
     "output_type": "stream",
     "text": [
      "['training_set', 'validation_set', 'test_set']\n"
     ]
    }
   ],
   "source": [
    "print(os.listdir(\"./dataset\"))"
   ]
  },
  {
   "cell_type": "code",
   "execution_count": 10,
   "id": "e1458c3b",
   "metadata": {
    "execution": {
     "iopub.execute_input": "2021-11-28T02:16:12.723047Z",
     "iopub.status.busy": "2021-11-28T02:16:12.721959Z",
     "iopub.status.idle": "2021-11-28T02:18:22.843899Z",
     "shell.execute_reply": "2021-11-28T02:18:22.844573Z",
     "shell.execute_reply.started": "2021-11-27T21:47:41.464449Z"
    },
    "papermill": {
     "duration": 130.304798,
     "end_time": "2021-11-28T02:18:22.844812",
     "exception": false,
     "start_time": "2021-11-28T02:16:12.540014",
     "status": "completed"
    },
    "tags": []
   },
   "outputs": [
    {
     "name": "stdout",
     "output_type": "stream",
     "text": [
      "Number of training examples: 26529\n",
      "Number of test examples: 3286\n",
      "Number of validation examples: 3311\n"
     ]
    }
   ],
   "source": [
    "# Splitting the dataset into train, test and validation set\n",
    "\n",
    "test_examples = train_examples = validation_examples = 0\n",
    "seed(config.SEED)\n",
    "\n",
    "for record in open(config.TRAIN_FULL_DATA).readlines()[1:]:\n",
    "    split_record = record.split(\",\")\n",
    "    image_name = split_record[0]\n",
    "    target = split_record[7]\n",
    "    \n",
    "    random_num = random.random()\n",
    "    \n",
    "    if random_num < config.TRAIN_SIZE:\n",
    "        destination = config.TRAIN_IMAGES_FOLDER\n",
    "        train_examples += 1\n",
    "        \n",
    "    elif random_num < 0.9:\n",
    "        destination = config.VALIDATION_IMAGES_FOLDER\n",
    "        validation_examples += 1\n",
    "        \n",
    "    else:\n",
    "        destination = config.TEST_IMAGES_FOLDER\n",
    "        test_examples += 1\n",
    "        \n",
    "    if target == \"0\":\n",
    "        shutil.copy(\n",
    "            config.TRAINING_SAMPLES_FOLDER + image_name + \".jpg\",\n",
    "            destination + \"benign/\" + image_name + \".jpg\"\n",
    "        )\n",
    "    \n",
    "    elif target == \"1\":\n",
    "        shutil.copy(\n",
    "            config.TRAINING_SAMPLES_FOLDER + image_name + \".jpg\",\n",
    "            destination + \"malignant/\" + image_name + \".jpg\"\n",
    "        )\n",
    "\n",
    "print(f\"Number of training examples: {train_examples}\")\n",
    "print(f\"Number of test examples: {test_examples}\")\n",
    "print(f\"Number of validation examples: {validation_examples}\")"
   ]
  },
  {
   "cell_type": "code",
   "execution_count": 11,
   "id": "f308ace2",
   "metadata": {
    "execution": {
     "iopub.execute_input": "2021-11-28T02:18:22.900042Z",
     "iopub.status.busy": "2021-11-28T02:18:22.899135Z",
     "iopub.status.idle": "2021-11-28T02:18:23.856516Z",
     "shell.execute_reply": "2021-11-28T02:18:23.856069Z",
     "shell.execute_reply.started": "2021-11-27T21:47:50.336719Z"
    },
    "papermill": {
     "duration": 0.988377,
     "end_time": "2021-11-28T02:18:23.856646",
     "exception": false,
     "start_time": "2021-11-28T02:18:22.868269",
     "status": "completed"
    },
    "tags": []
   },
   "outputs": [
    {
     "name": "stdout",
     "output_type": "stream",
     "text": [
      "Found 26529 images belonging to 2 classes.\n",
      "Found 3311 images belonging to 2 classes.\n"
     ]
    }
   ],
   "source": [
    "# Preparing the data and performing Data Augmentation\n",
    "train_datagen = ImageDataGenerator(\n",
    "    rescale=1./255,\n",
    "    shear_range=0.2,\n",
    "    zoom_range=(0.95, 0.95),\n",
    "    rotation_range=15,\n",
    "    horizontal_flip=True,\n",
    "    vertical_flip=True,\n",
    "    data_format=\"channels_last\",\n",
    "    dtype=tf.float32\n",
    ")\n",
    "\n",
    "validation_datagen = ImageDataGenerator(\n",
    "    rescale=1./255,\n",
    "    dtype=tf.float32\n",
    ")\n",
    "\n",
    "train_generator = train_datagen.flow_from_directory(\n",
    "    directory=config.TRAIN_IMAGES_FOLDER,\n",
    "    target_size=(config.IMAGE_HEIGHT, config.IMAGE_WIDTH),\n",
    "    color_mode=\"rgb\",\n",
    "    batch_size=config.BATCH_SIZE,\n",
    "    class_mode=\"binary\",\n",
    "    shuffle=True\n",
    ")\n",
    "\n",
    "validation_generator = validation_datagen.flow_from_directory(\n",
    "    directory=config.VALIDATION_IMAGES_FOLDER,\n",
    "    target_size=(config.IMAGE_HEIGHT, config.IMAGE_WIDTH),\n",
    "    color_mode=\"rgb\",\n",
    "    batch_size=config.BATCH_SIZE,\n",
    "    class_mode=\"binary\",\n",
    "    shuffle=True\n",
    ")"
   ]
  },
  {
   "cell_type": "code",
   "execution_count": 12,
   "id": "96f3a23b",
   "metadata": {
    "execution": {
     "iopub.execute_input": "2021-11-28T02:18:23.909302Z",
     "iopub.status.busy": "2021-11-28T02:18:23.907604Z",
     "iopub.status.idle": "2021-11-28T02:18:23.909995Z",
     "shell.execute_reply": "2021-11-28T02:18:23.910419Z",
     "shell.execute_reply.started": "2021-11-27T21:47:50.338429Z"
    },
    "papermill": {
     "duration": 0.030956,
     "end_time": "2021-11-28T02:18:23.910585",
     "exception": false,
     "start_time": "2021-11-28T02:18:23.879629",
     "status": "completed"
    },
    "tags": []
   },
   "outputs": [],
   "source": [
    "# Creating an exponential learning rate scheduler\n",
    "def exponential_decay(lr0, s):\n",
    "    def exponential_decay_fn(epoch):\n",
    "        return lr0 * 0.1**(epoch / s)\n",
    "    return exponential_decay_fn\n",
    "\n",
    "exponential_decay_fn = exponential_decay(lr0=config.LEARNING_RATE, s=20)\n",
    "lr_scheduler = keras.callbacks.LearningRateScheduler(exponential_decay_fn)"
   ]
  },
  {
   "cell_type": "code",
   "execution_count": 13,
   "id": "f32f0a39",
   "metadata": {
    "execution": {
     "iopub.execute_input": "2021-11-28T02:18:23.961894Z",
     "iopub.status.busy": "2021-11-28T02:18:23.960896Z",
     "iopub.status.idle": "2021-11-28T02:18:23.963159Z",
     "shell.execute_reply": "2021-11-28T02:18:23.963592Z",
     "shell.execute_reply.started": "2021-11-27T21:47:50.342269Z"
    },
    "papermill": {
     "duration": 0.029692,
     "end_time": "2021-11-28T02:18:23.963732",
     "exception": false,
     "start_time": "2021-11-28T02:18:23.934040",
     "status": "completed"
    },
    "tags": []
   },
   "outputs": [],
   "source": [
    "# Using callbacks to save model parameters and perform early stopping\n",
    "checkpoint_cb = keras.callbacks.ModelCheckpoint(\"melanoma.h5\", save_best_only=True)\n",
    "early_stopping_cb = keras.callbacks.EarlyStopping(patience=config.PATIENCE, restore_best_weights=True)"
   ]
  },
  {
   "cell_type": "code",
   "execution_count": 14,
   "id": "28e274ae",
   "metadata": {
    "execution": {
     "iopub.execute_input": "2021-11-28T02:18:24.013411Z",
     "iopub.status.busy": "2021-11-28T02:18:24.012698Z",
     "iopub.status.idle": "2021-11-28T02:18:24.015183Z",
     "shell.execute_reply": "2021-11-28T02:18:24.014779Z",
     "shell.execute_reply.started": "2021-11-27T21:47:50.344200Z"
    },
    "papermill": {
     "duration": 0.028441,
     "end_time": "2021-11-28T02:18:24.015299",
     "exception": false,
     "start_time": "2021-11-28T02:18:23.986858",
     "status": "completed"
    },
    "tags": []
   },
   "outputs": [],
   "source": [
    "# Calculating the different step size for the model while training\n",
    "STEP_SIZE_TRAIN = train_generator.n // train_generator.batch_size\n",
    "STEP_SIZE_VALIDATION = validation_generator.n // validation_generator.batch_size"
   ]
  },
  {
   "cell_type": "code",
   "execution_count": 15,
   "id": "2e92727f",
   "metadata": {
    "execution": {
     "iopub.execute_input": "2021-11-28T02:18:24.064019Z",
     "iopub.status.busy": "2021-11-28T02:18:24.063503Z",
     "iopub.status.idle": "2021-11-28T02:18:26.396633Z",
     "shell.execute_reply": "2021-11-28T02:18:26.397082Z",
     "shell.execute_reply.started": "2021-11-27T21:47:50.346225Z"
    },
    "papermill": {
     "duration": 2.359654,
     "end_time": "2021-11-28T02:18:26.397241",
     "exception": false,
     "start_time": "2021-11-28T02:18:24.037587",
     "status": "completed"
    },
    "tags": []
   },
   "outputs": [
    {
     "name": "stderr",
     "output_type": "stream",
     "text": [
      "2021-11-28 02:18:24.140534: I tensorflow/stream_executor/cuda/cuda_gpu_executor.cc:937] successful NUMA node read from SysFS had negative value (-1), but there must be at least one NUMA node, so returning NUMA node zero\n",
      "2021-11-28 02:18:24.259344: I tensorflow/stream_executor/cuda/cuda_gpu_executor.cc:937] successful NUMA node read from SysFS had negative value (-1), but there must be at least one NUMA node, so returning NUMA node zero\n",
      "2021-11-28 02:18:24.260125: I tensorflow/stream_executor/cuda/cuda_gpu_executor.cc:937] successful NUMA node read from SysFS had negative value (-1), but there must be at least one NUMA node, so returning NUMA node zero\n",
      "2021-11-28 02:18:24.262056: I tensorflow/core/platform/cpu_feature_guard.cc:142] This TensorFlow binary is optimized with oneAPI Deep Neural Network Library (oneDNN) to use the following CPU instructions in performance-critical operations:  AVX2 AVX512F FMA\n",
      "To enable them in other operations, rebuild TensorFlow with the appropriate compiler flags.\n",
      "2021-11-28 02:18:24.263329: I tensorflow/stream_executor/cuda/cuda_gpu_executor.cc:937] successful NUMA node read from SysFS had negative value (-1), but there must be at least one NUMA node, so returning NUMA node zero\n",
      "2021-11-28 02:18:24.264059: I tensorflow/stream_executor/cuda/cuda_gpu_executor.cc:937] successful NUMA node read from SysFS had negative value (-1), but there must be at least one NUMA node, so returning NUMA node zero\n",
      "2021-11-28 02:18:24.264711: I tensorflow/stream_executor/cuda/cuda_gpu_executor.cc:937] successful NUMA node read from SysFS had negative value (-1), but there must be at least one NUMA node, so returning NUMA node zero\n",
      "2021-11-28 02:18:26.079640: I tensorflow/stream_executor/cuda/cuda_gpu_executor.cc:937] successful NUMA node read from SysFS had negative value (-1), but there must be at least one NUMA node, so returning NUMA node zero\n",
      "2021-11-28 02:18:26.080385: I tensorflow/stream_executor/cuda/cuda_gpu_executor.cc:937] successful NUMA node read from SysFS had negative value (-1), but there must be at least one NUMA node, so returning NUMA node zero\n",
      "2021-11-28 02:18:26.081120: I tensorflow/stream_executor/cuda/cuda_gpu_executor.cc:937] successful NUMA node read from SysFS had negative value (-1), but there must be at least one NUMA node, so returning NUMA node zero\n",
      "2021-11-28 02:18:26.081712: I tensorflow/core/common_runtime/gpu/gpu_device.cc:1510] Created device /job:localhost/replica:0/task:0/device:GPU:0 with 15403 MB memory:  -> device: 0, name: Tesla P100-PCIE-16GB, pci bus id: 0000:00:04.0, compute capability: 6.0\n"
     ]
    }
   ],
   "source": [
    "# Metrics to use for compiling the model\n",
    "METRICS = [keras.metrics.AUC(name=\"auc\")]"
   ]
  },
  {
   "cell_type": "code",
   "execution_count": 16,
   "id": "58d48687",
   "metadata": {
    "execution": {
     "iopub.execute_input": "2021-11-28T02:18:26.456213Z",
     "iopub.status.busy": "2021-11-28T02:18:26.455460Z",
     "iopub.status.idle": "2021-11-28T02:18:26.474326Z",
     "shell.execute_reply": "2021-11-28T02:18:26.474742Z",
     "shell.execute_reply.started": "2021-11-27T21:47:50.348198Z"
    },
    "papermill": {
     "duration": 0.053815,
     "end_time": "2021-11-28T02:18:26.474884",
     "exception": false,
     "start_time": "2021-11-28T02:18:26.421069",
     "status": "completed"
    },
    "tags": []
   },
   "outputs": [],
   "source": [
    "# Calculating the number of benign/malignant images\n",
    "total_images = train_examples + validation_examples\n",
    "benign_images = len(os.listdir(config.TRAIN_IMAGES_FOLDER + \"benign\")) + len(os.listdir(config.VALIDATION_IMAGES_FOLDER + \"benign\"))\n",
    "malignant_images = len(os.listdir(config.TRAIN_IMAGES_FOLDER + \"malignant\")) + len(os.listdir(config.VALIDATION_IMAGES_FOLDER + \"malignant\"))"
   ]
  },
  {
   "cell_type": "code",
   "execution_count": 17,
   "id": "03e225e4",
   "metadata": {
    "execution": {
     "iopub.execute_input": "2021-11-28T02:18:26.676894Z",
     "iopub.status.busy": "2021-11-28T02:18:26.676055Z",
     "iopub.status.idle": "2021-11-28T02:18:28.749568Z",
     "shell.execute_reply": "2021-11-28T02:18:28.748937Z",
     "shell.execute_reply.started": "2021-11-27T21:47:50.350120Z"
    },
    "papermill": {
     "duration": 2.105109,
     "end_time": "2021-11-28T02:18:28.749696",
     "exception": false,
     "start_time": "2021-11-28T02:18:26.644587",
     "status": "completed"
    },
    "tags": []
   },
   "outputs": [
    {
     "name": "stdout",
     "output_type": "stream",
     "text": [
      "Downloading data from https://storage.googleapis.com/tensorflow/keras-applications/xception/xception_weights_tf_dim_ordering_tf_kernels_notop.h5\n",
      "83689472/83683744 [==============================] - 0s 0us/step\n",
      "83697664/83683744 [==============================] - 1s 0us/step\n"
     ]
    }
   ],
   "source": [
    "# Building a transfer learning model using Keras\n",
    "xception = keras.applications.xception.Xception(input_shape=(config.IMAGE_HEIGHT, config.IMAGE_WIDTH, config.NO_CHANNELS),\n",
    "                                       weights=\"imagenet\", include_top=False)\n",
    "xception.trainable = False\n",
    "\n",
    "xcept_model = keras.models.Sequential([\n",
    "    xception,\n",
    "    keras.layers.GlobalAveragePooling2D(),\n",
    "    keras.layers.Dense(8, activation=\"relu\"),\n",
    "    keras.layers.Dense(1, activation=\"sigmoid\")\n",
    "])"
   ]
  },
  {
   "cell_type": "code",
   "execution_count": 18,
   "id": "f1c51a9b",
   "metadata": {
    "execution": {
     "iopub.execute_input": "2021-11-28T02:18:28.813364Z",
     "iopub.status.busy": "2021-11-28T02:18:28.808304Z",
     "iopub.status.idle": "2021-11-28T02:18:28.820222Z",
     "shell.execute_reply": "2021-11-28T02:18:28.819757Z",
     "shell.execute_reply.started": "2021-11-27T21:47:50.352010Z"
    },
    "papermill": {
     "duration": 0.04337,
     "end_time": "2021-11-28T02:18:28.820331",
     "exception": false,
     "start_time": "2021-11-28T02:18:28.776961",
     "status": "completed"
    },
    "tags": []
   },
   "outputs": [],
   "source": [
    "# Compiling the transfer learning model\n",
    "xcept_model.compile(optimizer=keras.optimizers.Adam(), \n",
    "              loss=keras.losses.BinaryCrossentropy(),\n",
    "              metrics=METRICS\n",
    "             )"
   ]
  },
  {
   "cell_type": "code",
   "execution_count": 19,
   "id": "280422cc",
   "metadata": {
    "execution": {
     "iopub.execute_input": "2021-11-28T02:18:28.877772Z",
     "iopub.status.busy": "2021-11-28T02:18:28.876983Z",
     "iopub.status.idle": "2021-11-28T03:38:14.911610Z",
     "shell.execute_reply": "2021-11-28T03:38:14.911117Z",
     "shell.execute_reply.started": "2021-11-27T21:47:50.353935Z"
    },
    "papermill": {
     "duration": 4786.065229,
     "end_time": "2021-11-28T03:38:14.911742",
     "exception": false,
     "start_time": "2021-11-28T02:18:28.846513",
     "status": "completed"
    },
    "tags": []
   },
   "outputs": [
    {
     "data": {
      "image/png": "[encoded data removed]",
      "text/plain": [
       "<Figure size 864x864 with 4 Axes>"
      ]
     },
     "metadata": {
      "needs_background": "light"
     },
     "output_type": "display_data"
    },
    {
     "name": "stdout",
     "output_type": "stream",
     "text": [
      "auc\n",
      "\ttraining         \t (min:    0.758, max:    0.891, cur:    0.891)\n",
      "\tvalidation       \t (min:    0.789, max:    0.811, cur:    0.810)\n",
      "Loss\n",
      "\ttraining         \t (min:    0.063, max:    0.083, cur:    0.063)\n",
      "\tvalidation       \t (min:    0.078, max:    0.085, cur:    0.082)\n",
      "lr\n",
      "\tlr               \t (min:    0.004, max:    0.010, cur:    0.004)\n"
     ]
    }
   ],
   "source": [
    "# Training the CNN model\n",
    "xcept_history = xcept_model.fit(train_generator, steps_per_epoch=STEP_SIZE_TRAIN, epochs=config.EPOCHS,\n",
    "                  validation_data=validation_generator, validation_steps=STEP_SIZE_VALIDATION,\n",
    "                  callbacks=[early_stopping_cb, checkpoint_cb, lr_scheduler, PlotLossesKeras()]\n",
    "                 )"
   ]
  },
  {
   "cell_type": "code",
   "execution_count": 20,
   "id": "960f62eb",
   "metadata": {
    "execution": {
     "iopub.execute_input": "2021-11-28T03:38:14.973713Z",
     "iopub.status.busy": "2021-11-28T03:38:14.972920Z",
     "iopub.status.idle": "2021-11-28T03:38:34.649704Z",
     "shell.execute_reply": "2021-11-28T03:38:34.649221Z",
     "shell.execute_reply.started": "2021-11-27T21:47:50.355796Z"
    },
    "papermill": {
     "duration": 19.709373,
     "end_time": "2021-11-28T03:38:34.649839",
     "exception": false,
     "start_time": "2021-11-28T03:38:14.940466",
     "status": "completed"
    },
    "tags": []
   },
   "outputs": [
    {
     "name": "stdout",
     "output_type": "stream",
     "text": [
      "51/51 [==============================] - 19s 376ms/step - loss: 0.0796 - auc: 0.8065\n"
     ]
    },
    {
     "data": {
      "text/plain": [
       "[0.07955460250377655, 0.8064647912979126]"
      ]
     },
     "execution_count": 20,
     "metadata": {},
     "output_type": "execute_result"
    }
   ],
   "source": [
    "# Evaluating the model on Validation Dataset\n",
    "xcept_model.evaluate(validation_generator, steps=STEP_SIZE_VALIDATION)"
   ]
  },
  {
   "cell_type": "code",
   "execution_count": 21,
   "id": "dad70f79",
   "metadata": {
    "execution": {
     "iopub.execute_input": "2021-11-28T03:38:34.738602Z",
     "iopub.status.busy": "2021-11-28T03:38:34.738027Z",
     "iopub.status.idle": "2021-11-28T03:38:34.847272Z",
     "shell.execute_reply": "2021-11-28T03:38:34.846870Z",
     "shell.execute_reply.started": "2021-11-27T21:47:50.357812Z"
    },
    "papermill": {
     "duration": 0.155664,
     "end_time": "2021-11-28T03:38:34.847383",
     "exception": false,
     "start_time": "2021-11-28T03:38:34.691719",
     "status": "completed"
    },
    "tags": []
   },
   "outputs": [
    {
     "name": "stdout",
     "output_type": "stream",
     "text": [
      "Found 3286 images belonging to 2 classes.\n"
     ]
    }
   ],
   "source": [
    "# Creating a test generator for test data\n",
    "test_datagen = ImageDataGenerator(\n",
    "    rescale=1./255,\n",
    "    dtype=tf.float32\n",
    ")\n",
    "\n",
    "test_generator = test_datagen.flow_from_directory(\n",
    "    directory=config.TEST_IMAGES_FOLDER,\n",
    "    target_size=(config.IMAGE_HEIGHT, config.IMAGE_WIDTH),\n",
    "    color_mode=\"rgb\",\n",
    "    batch_size=config.BATCH_SIZE,\n",
    "    class_mode=\"binary\",\n",
    "    shuffle=False\n",
    ")"
   ]
  },
  {
   "cell_type": "code",
   "execution_count": 22,
   "id": "74b851aa",
   "metadata": {
    "execution": {
     "iopub.execute_input": "2021-11-28T03:38:34.935104Z",
     "iopub.status.busy": "2021-11-28T03:38:34.934574Z",
     "iopub.status.idle": "2021-11-28T03:38:34.938406Z",
     "shell.execute_reply": "2021-11-28T03:38:34.937967Z",
     "shell.execute_reply.started": "2021-11-27T21:47:50.360042Z"
    },
    "papermill": {
     "duration": 0.049111,
     "end_time": "2021-11-28T03:38:34.938549",
     "exception": false,
     "start_time": "2021-11-28T03:38:34.889438",
     "status": "completed"
    },
    "tags": []
   },
   "outputs": [],
   "source": [
    "STEP_SIZE_TEST = test_generator.n // test_generator.batch_size"
   ]
  },
  {
   "cell_type": "code",
   "execution_count": 23,
   "id": "96031db8",
   "metadata": {
    "execution": {
     "iopub.execute_input": "2021-11-28T03:38:35.028671Z",
     "iopub.status.busy": "2021-11-28T03:38:35.027926Z",
     "iopub.status.idle": "2021-11-28T03:38:45.601038Z",
     "shell.execute_reply": "2021-11-28T03:38:45.600591Z",
     "shell.execute_reply.started": "2021-11-27T21:47:50.361950Z"
    },
    "papermill": {
     "duration": 10.620221,
     "end_time": "2021-11-28T03:38:45.601160",
     "exception": false,
     "start_time": "2021-11-28T03:38:34.980939",
     "status": "completed"
    },
    "tags": []
   },
   "outputs": [
    {
     "data": {
      "text/plain": [
       "array([0., 0., 0., ..., 1., 1., 1.])"
      ]
     },
     "execution_count": 23,
     "metadata": {},
     "output_type": "execute_result"
    }
   ],
   "source": [
    "# Getting the actual classes of the test dataset\n",
    "y_test = np.array([])\n",
    "num_batches = 0\n",
    "for _, y in test_generator:\n",
    "    y_test = np.append(y_test, y)\n",
    "    num_batches += 1\n",
    "    if num_batches == math.ceil(test_examples / config.BATCH_SIZE):\n",
    "        break\n",
    "y_test"
   ]
  },
  {
   "cell_type": "code",
   "execution_count": 24,
   "id": "6480824d",
   "metadata": {
    "execution": {
     "iopub.execute_input": "2021-11-28T03:38:45.690452Z",
     "iopub.status.busy": "2021-11-28T03:38:45.689692Z",
     "iopub.status.idle": "2021-11-28T03:39:02.648845Z",
     "shell.execute_reply": "2021-11-28T03:39:02.648210Z",
     "shell.execute_reply.started": "2021-11-27T21:47:50.363849Z"
    },
    "papermill": {
     "duration": 17.00539,
     "end_time": "2021-11-28T03:39:02.648993",
     "exception": false,
     "start_time": "2021-11-28T03:38:45.643603",
     "status": "completed"
    },
    "tags": []
   },
   "outputs": [
    {
     "data": {
      "text/plain": [
       "array([[0.04638468],\n",
       "       [0.00320681],\n",
       "       [0.0086972 ],\n",
       "       ...,\n",
       "       [0.29778004],\n",
       "       [0.01495265],\n",
       "       [0.09948719]], dtype=float32)"
      ]
     },
     "execution_count": 24,
     "metadata": {},
     "output_type": "execute_result"
    }
   ],
   "source": [
    "# Predicting output on the test dataset\n",
    "y_pred = xcept_model.predict(test_generator)\n",
    "y_pred"
   ]
  },
  {
   "cell_type": "code",
   "execution_count": 25,
   "id": "6e6be996",
   "metadata": {
    "execution": {
     "iopub.execute_input": "2021-11-28T03:39:02.737812Z",
     "iopub.status.busy": "2021-11-28T03:39:02.737016Z",
     "iopub.status.idle": "2021-11-28T03:39:02.863751Z",
     "shell.execute_reply": "2021-11-28T03:39:02.863150Z",
     "shell.execute_reply.started": "2021-11-27T21:47:50.365770Z"
    },
    "papermill": {
     "duration": 0.171608,
     "end_time": "2021-11-28T03:39:02.863881",
     "exception": false,
     "start_time": "2021-11-28T03:39:02.692273",
     "status": "completed"
    },
    "tags": []
   },
   "outputs": [],
   "source": [
    "# Computing the TPR and FPR values from the roc curve\n",
    "from sklearn.metrics import roc_curve\n",
    "fpr, tpr, thresholds = roc_curve(y_test, y_pred)"
   ]
  },
  {
   "cell_type": "code",
   "execution_count": 26,
   "id": "1406b05f",
   "metadata": {
    "execution": {
     "iopub.execute_input": "2021-11-28T03:39:02.958199Z",
     "iopub.status.busy": "2021-11-28T03:39:02.957379Z",
     "iopub.status.idle": "2021-11-28T03:39:03.368703Z",
     "shell.execute_reply": "2021-11-28T03:39:03.368152Z",
     "shell.execute_reply.started": "2021-11-27T21:47:50.367643Z"
    },
    "papermill": {
     "duration": 0.462198,
     "end_time": "2021-11-28T03:39:03.368836",
     "exception": false,
     "start_time": "2021-11-28T03:39:02.906638",
     "status": "completed"
    },
    "tags": []
   },
   "outputs": [
    {
     "data": {
      "image/png": "[encoded data removed]",
      "text/plain": [
       "<Figure size 432x288 with 1 Axes>"
      ]
     },
     "metadata": {
      "needs_background": "light"
     },
     "output_type": "display_data"
    }
   ],
   "source": [
    "# Plotting the ROC curve\n",
    "def plot_roc_curve (fpr, tpr, label = None):\n",
    "    plt.plot(fpr, tpr, linewidth = 2, label = label)\n",
    "    plt.plot([0,1], [0,1], 'k--') # Dashed diagonal\n",
    "    plt.xlabel(\"False Positive Rate\")\n",
    "    plt.ylabel(\"True Positive Rate (Recall)\")\n",
    "    plt.grid()\n",
    "    \n",
    "plot_roc_curve(fpr, tpr)\n",
    "plt.show()"
   ]
  },
  {
   "cell_type": "code",
   "execution_count": 27,
   "id": "6de0c3bb",
   "metadata": {
    "execution": {
     "iopub.execute_input": "2021-11-28T03:39:03.461028Z",
     "iopub.status.busy": "2021-11-28T03:39:03.460270Z",
     "iopub.status.idle": "2021-11-28T03:39:24.278612Z",
     "shell.execute_reply": "2021-11-28T03:39:24.279540Z",
     "shell.execute_reply.started": "2021-11-27T21:47:50.369577Z"
    },
    "papermill": {
     "duration": 20.867023,
     "end_time": "2021-11-28T03:39:24.279759",
     "exception": false,
     "start_time": "2021-11-28T03:39:03.412736",
     "status": "completed"
    },
    "tags": []
   },
   "outputs": [
    {
     "name": "stdout",
     "output_type": "stream",
     "text": [
      "51/51 [==============================] - 19s 366ms/step - loss: 0.0603 - auc: 0.8459\n"
     ]
    },
    {
     "data": {
      "text/plain": [
       "[0.060340698808431625, 0.8458700180053711]"
      ]
     },
     "execution_count": 27,
     "metadata": {},
     "output_type": "execute_result"
    }
   ],
   "source": [
    "# Evaluating the model on test dataset\n",
    "xcept_model.evaluate(test_generator, steps=STEP_SIZE_TEST)"
   ]
  },
  {
   "cell_type": "code",
   "execution_count": 28,
   "id": "79266a5e",
   "metadata": {
    "execution": {
     "iopub.execute_input": "2021-11-28T03:39:24.543226Z",
     "iopub.status.busy": "2021-11-28T03:39:24.542431Z",
     "iopub.status.idle": "2021-11-28T03:39:25.008767Z",
     "shell.execute_reply": "2021-11-28T03:39:25.009540Z",
     "shell.execute_reply.started": "2021-11-27T21:47:50.371491Z"
    },
    "papermill": {
     "duration": 0.578287,
     "end_time": "2021-11-28T03:39:25.009750",
     "exception": false,
     "start_time": "2021-11-28T03:39:24.431463",
     "status": "completed"
    },
    "tags": []
   },
   "outputs": [
    {
     "name": "stderr",
     "output_type": "stream",
     "text": [
      "/opt/conda/lib/python3.7/site-packages/keras/utils/generic_utils.py:497: CustomMaskWarning: Custom mask layers require a config and must override get_config. When loading, the custom mask layer must be passed to the custom_objects argument.\n",
      "  category=CustomMaskWarning)\n"
     ]
    }
   ],
   "source": [
    "# Saving the best model after training\n",
    "xcept_model.save(\"final_melanoma_model.h5\")"
   ]
  },
  {
   "cell_type": "code",
   "execution_count": null,
   "id": "61725c69",
   "metadata": {
    "papermill": {
     "duration": 0.056865,
     "end_time": "2021-11-28T03:39:25.137992",
     "exception": false,
     "start_time": "2021-11-28T03:39:25.081127",
     "status": "completed"
    },
    "tags": []
   },
   "outputs": [],
   "source": []
  }
 ],
 "metadata": {
  "kernelspec": {
   "display_name": "Python 3",
   "language": "python",
   "name": "python3"
  },
  "language_info": {
   "codemirror_mode": {
    "name": "ipython",
    "version": 3
   },
   "file_extension": ".py",
   "mimetype": "text/x-python",
   "name": "python",
   "nbconvert_exporter": "python",
   "pygments_lexer": "ipython3",
   "version": "3.7.10"
  },
  "papermill": {
   "default_parameters": {},
   "duration": 5020.236546,
   "end_time": "2021-11-28T03:39:28.835424",
   "environment_variables": {},
   "exception": null,
   "input_path": "__notebook__.ipynb",
   "output_path": "__notebook__.ipynb",
   "parameters": {},
   "start_time": "2021-11-28T02:15:48.598878",
   "version": "2.3.3"
  }
 },
 "nbformat": 4,
 "nbformat_minor": 5
}
